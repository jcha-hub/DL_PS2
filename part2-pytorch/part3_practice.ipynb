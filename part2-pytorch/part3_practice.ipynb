{
 "cells": [
  {
   "cell_type": "code",
   "id": "initial_id",
   "metadata": {
    "collapsed": true,
    "ExecuteTime": {
     "end_time": "2025-09-24T00:14:07.808611Z",
     "start_time": "2025-09-24T00:14:04.824719Z"
    }
   },
   "source": [
    "#calculating focal loss\n",
    "\n",
    "\n",
    "import torch\n",
    "import torch.nn.functional as F\n",
    "import numpy as np\n",
    "\n",
    "from losses.focal_loss import FocalLoss, reweight\n",
    "\n",
    "def logit(p: torch.Tensor) -> torch.Tensor:\n",
    "    return torch.log(p / (1 - p))\n"
   ],
   "outputs": [],
   "execution_count": 1
  },
  {
   "metadata": {
    "ExecuteTime": {
     "end_time": "2025-09-22T01:25:15.016850Z",
     "start_time": "2025-09-22T01:25:15.012479Z"
    }
   },
   "cell_type": "code",
   "source": [
    "print('inputs shape', inputs.shape)\n",
    "inputs = logit(\n",
    "    torch.tensor(\n",
    "        [\n",
    "            [\n",
    "                [0.95, 0.55, 0.12, 0.05],\n",
    "                [0.09, 0.95, 0.36, 0.11],\n",
    "                [0.06, 0.12, 0.56, 0.07],\n",
    "                [0.09, 0.15, 0.25, 0.45],\n",
    "            ]\n",
    "        ],\n",
    "        dtype=torch.float32,\n",
    "    ).squeeze(0)\n",
    ")\n",
    "print('target shape', targets.shape)\n",
    "targets = torch.tensor([1, 3, 0, 2], dtype=torch.long).squeeze(0)\n",
    "\n",
    "#\n",
    "print('inputs shape', inputs.shape)\n",
    "print('target shape', targets.shape)"
   ],
   "id": "4545d8f196a6e68a",
   "outputs": [
    {
     "name": "stdout",
     "output_type": "stream",
     "text": [
      "inputs shape torch.Size([4, 4])\n",
      "target shape torch.Size([4])\n"
     ]
    }
   ],
   "execution_count": 5
  },
  {
   "metadata": {
    "ExecuteTime": {
     "end_time": "2025-09-22T15:09:14.231570Z",
     "start_time": "2025-09-22T15:09:14.226569Z"
    }
   },
   "cell_type": "code",
   "source": [
    "print(inputs)\n",
    "print(targets)\n",
    "print(targets.ndim)"
   ],
   "id": "1c06661de9735ed0",
   "outputs": [
    {
     "name": "stdout",
     "output_type": "stream",
     "text": [
      "tensor([[ 2.9444,  0.2007, -1.9924, -2.9444],\n",
      "        [-2.3136,  2.9444, -0.5754, -2.0907],\n",
      "        [-2.7515, -1.9924,  0.2412, -2.5867],\n",
      "        [-2.3136, -1.7346, -1.0986, -0.2007]])\n",
      "tensor([1, 3, 0, 2])\n",
      "1\n"
     ]
    }
   ],
   "execution_count": 11
  },
  {
   "metadata": {
    "ExecuteTime": {
     "end_time": "2025-09-22T16:16:06.150851Z",
     "start_time": "2025-09-22T16:16:06.137200Z"
    }
   },
   "cell_type": "code",
   "source": [
    "#print shape before squeeze\n",
    "print(logit(\n",
    "    torch.tensor(\n",
    "        [\n",
    "            [\n",
    "                [0.95, 0.55, 0.12, 0.05],\n",
    "                [0.09, 0.95, 0.36, 0.11],\n",
    "                [0.06, 0.12, 0.56, 0.07],\n",
    "                [0.09, 0.15, 0.25, 0.45],\n",
    "            ]\n",
    "        ],\n",
    "        dtype=torch.float32,\n",
    "    )).shape)\n",
    "print(torch.tensor([1, 3, 0, 2]).shape)\n",
    "print(inputs.shape[0])"
   ],
   "id": "754f5cbefa7ee7f3",
   "outputs": [
    {
     "name": "stdout",
     "output_type": "stream",
     "text": [
      "torch.Size([1, 4, 4])\n",
      "torch.Size([4])\n",
      "4\n"
     ]
    }
   ],
   "execution_count": 13
  },
  {
   "metadata": {
    "ExecuteTime": {
     "end_time": "2025-09-22T15:12:55.532099Z",
     "start_time": "2025-09-22T15:12:55.509246Z"
    }
   },
   "cell_type": "code",
   "source": [
    "# get unique elements and their counts in a tensor\n",
    "x = torch.tensor([1, 1, 2, 2, 3, 1, 1, 2])\n",
    "unique_elements, counts = torch.unique(x, return_counts=True)\n",
    "\n",
    "print(\"Unique elements:\", unique_elements)\n",
    "print(\"Counts:\", counts)\n"
   ],
   "id": "24bc50dbe9fe9cec",
   "outputs": [
    {
     "name": "stdout",
     "output_type": "stream",
     "text": [
      "Unique elements: tensor([1, 2, 3])\n",
      "Counts: tensor([4, 3, 1])\n"
     ]
    }
   ],
   "execution_count": 12
  },
  {
   "metadata": {
    "ExecuteTime": {
     "end_time": "2025-09-22T17:46:31.220689Z",
     "start_time": "2025-09-22T17:46:31.214801Z"
    }
   },
   "cell_type": "code",
   "source": [
    "#learn F.logSoftmax\n",
    "N = targets.shape[0]\n",
    "log_p = F.log_softmax(inputs, dim=1)        #output is [4,4]\n",
    "N = targets.shape[0]      #batch size\n",
    "log_pt = log_p[torch.arange(N), targets]    #torch.Size([4])\n",
    "print(\"log_p: \", log_p.shape)\n",
    "print(\"log_pt: \", log_pt.shape)\n"
   ],
   "id": "b4c6653f1eaf19a",
   "outputs": [
    {
     "name": "stdout",
     "output_type": "stream",
     "text": [
      "log_p:  torch.Size([4, 4])\n",
      "log_pt:  torch.Size([4])\n",
      "tensor([0.0599, 0.0062, 0.0412, 0.2336])\n"
     ]
    }
   ],
   "execution_count": 33
  },
  {
   "metadata": {
    "ExecuteTime": {
     "end_time": "2025-09-22T17:47:31.487779Z",
     "start_time": "2025-09-22T17:47:31.482749Z"
    }
   },
   "cell_type": "code",
   "source": [
    "pt = log_pt.exp()\n",
    "print(pt)\n",
    "\n",
    "sample_weights = pt"
   ],
   "id": "954041f0634a7171",
   "outputs": [
    {
     "name": "stdout",
     "output_type": "stream",
     "text": [
      "tensor([0.0599, 0.0062, 0.0412, 0.2336])\n"
     ]
    }
   ],
   "execution_count": 34
  },
  {
   "metadata": {
    "ExecuteTime": {
     "end_time": "2025-09-24T01:35:50.450996Z",
     "start_time": "2025-09-24T01:35:50.444974Z"
    }
   },
   "cell_type": "code",
   "source": [
    "import torch\n",
    "z = torch.tensor([[1], [2]])\n",
    "z * 3\n"
   ],
   "id": "30fccd228830dba8",
   "outputs": [
    {
     "data": {
      "text/plain": [
       "tensor([[3],\n",
       "        [6]])"
      ]
     },
     "execution_count": 5,
     "metadata": {},
     "output_type": "execute_result"
    }
   ],
   "execution_count": 5
  },
  {
   "metadata": {
    "ExecuteTime": {
     "end_time": "2025-09-24T02:49:08.176201Z",
     "start_time": "2025-09-24T02:49:08.163937Z"
    }
   },
   "cell_type": "code",
   "source": [
    "import torch\n",
    "import torch.nn.functional as F\n",
    "\n",
    "W1 = torch.tensor([[1.5], [0.5]])\n",
    "b1 = torch.tensor([[0.], [1.]])\n",
    "W2 = torch.tensor([[1.,2.],[2.,1.]])\n",
    "b2= torch.tensor([[0.], [1.]])\n",
    "W3 = torch.tensor([[1.,1.]])\n",
    "b3 = torch.tensor([[-1.]])\n",
    "print(W1, b1, W2, b2, W3, b3)\n",
    "\n",
    "#x = 2--------\n",
    "x = torch.tensor([[2.]])\n",
    "\n",
    "h = W3 @ F.relu(W2 @ F.relu(W1 * x  + b1) + b2) + b3\n",
    "h"
   ],
   "id": "45531e98fc1961e8",
   "outputs": [
    {
     "name": "stdout",
     "output_type": "stream",
     "text": [
      "tensor([[1.5000],\n",
      "        [0.5000]]) tensor([[0.],\n",
      "        [1.]]) tensor([[1., 2.],\n",
      "        [2., 1.]]) tensor([[0.],\n",
      "        [1.]]) tensor([[1., 1.]]) tensor([[-1.]])\n"
     ]
    },
    {
     "data": {
      "text/plain": [
       "tensor([[15.]])"
      ]
     },
     "execution_count": 30,
     "metadata": {},
     "output_type": "execute_result"
    }
   ],
   "execution_count": 30
  },
  {
   "metadata": {
    "ExecuteTime": {
     "end_time": "2025-09-24T03:36:59.542889Z",
     "start_time": "2025-09-24T03:36:59.538384Z"
    }
   },
   "cell_type": "code",
   "source": [
    "def relu_deriv(x):\n",
    "    deriv =  (x > 0).float()\n",
    "    return deriv\n",
    "\n",
    "deriv = relu_deriv(b2)\n",
    "print(deriv)\n",
    "print(torch.diag(deriv.squeeze()))      #need 1D tensor input into diag"
   ],
   "id": "8bf2889b88258c36",
   "outputs": [
    {
     "name": "stdout",
     "output_type": "stream",
     "text": [
      "tensor([[0.],\n",
      "        [1.]])\n",
      "tensor([[0., 0.],\n",
      "        [0., 1.]])\n"
     ]
    }
   ],
   "execution_count": 76
  },
  {
   "metadata": {
    "ExecuteTime": {
     "end_time": "2025-09-24T03:43:32.246461Z",
     "start_time": "2025-09-24T03:43:32.239486Z"
    }
   },
   "cell_type": "code",
   "source": [
    "def relu_deriv(x):\n",
    "    deriv =  (x > 0).float()\n",
    "    #return as diag tensor\n",
    "    return torch.diag(deriv.squeeze())\n",
    "\n",
    "deriv = relu_deriv(b2)\n",
    "# print(deriv)\n",
    "\n",
    "#x value------\n",
    "x0 = 1.\n",
    "x = torch.tensor([[x0]])\n",
    "print(\"x: \", x.item())\n",
    "\n",
    "W1 = torch.tensor([[1.5], [0.5]])\n",
    "b1 = torch.tensor([[0.], [1.]])\n",
    "W2 = torch.tensor([[1.,2.],[2.,1.]])\n",
    "b2= torch.tensor([[0.], [1.]])\n",
    "W3 = torch.tensor([[1.,1.]])\n",
    "b3 = torch.tensor([[-1.]])\n",
    "\n",
    "z1 = W1 * x + b1\n",
    "a1 = torch.relu(z1)\n",
    "z2 = W2 @ a1 + b2\n",
    "a2 = torch.relu(z2)\n",
    "z3 = W3 @ a2 + b3\n",
    "\n",
    "print('H first', h)\n",
    "\n",
    "def calc_h(x):\n",
    "    z1 = W1 * x + b1\n",
    "    a1 = torch.relu(z1)\n",
    "    z2 = W2 @ a1 + b2\n",
    "    a2 = torch.relu(z2)\n",
    "    h = W3 @ a2 + b3\n",
    "    return h.item()\n",
    "\n",
    "h = calc_h(x)\n",
    "print(\"h:\", h)\n",
    "\n",
    "dz1_dx = W1\n",
    "da1_dz1 = relu_deriv(z1)\n",
    "dz2_da1 = W2\n",
    "da2_dz2 = relu_deriv(z2)\n",
    "dz3_da2 = W3\n",
    "\n",
    "dh_dx = dz3_da2 @ da2_dz2 @ dz2_da1 @ da1_dz1 @ dz1_dx\n",
    "dh_dx = dh_dx.item()\n",
    "print(\"dh:\", dh_dx)\n",
    "\n",
    "#calc W, b\n",
    "W = dh_dx\n",
    "b = h- W * x0\n",
    "print(\"W: \", W)\n",
    "print(\"b: \", b)\n"
   ],
   "id": "fda5427a2677562b",
   "outputs": [
    {
     "name": "stdout",
     "output_type": "stream",
     "text": [
      "x:  1.0\n",
      "H first 1.5\n",
      "h: 9.0\n",
      "dh: 6.0\n",
      "W:  6.0\n",
      "b:  3.0\n"
     ]
    }
   ],
   "execution_count": 91
  },
  {
   "metadata": {
    "ExecuteTime": {
     "end_time": "2025-09-24T03:36:52.882941Z",
     "start_time": "2025-09-24T03:36:52.879940Z"
    }
   },
   "cell_type": "code",
   "source": [
    "#calc W, b\n",
    "W = dh_dx\n",
    "b = h - W * x"
   ],
   "id": "367fee2ad31ea025",
   "outputs": [],
   "execution_count": 75
  }
 ],
 "metadata": {
  "kernelspec": {
   "display_name": "Python 3",
   "language": "python",
   "name": "python3"
  },
  "language_info": {
   "codemirror_mode": {
    "name": "ipython",
    "version": 2
   },
   "file_extension": ".py",
   "mimetype": "text/x-python",
   "name": "python",
   "nbconvert_exporter": "python",
   "pygments_lexer": "ipython2",
   "version": "2.7.6"
  }
 },
 "nbformat": 4,
 "nbformat_minor": 5
}
