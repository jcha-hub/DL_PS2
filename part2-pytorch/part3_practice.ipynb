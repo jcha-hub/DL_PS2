{
 "cells": [
  {
   "cell_type": "code",
   "id": "initial_id",
   "metadata": {
    "collapsed": true,
    "ExecuteTime": {
     "end_time": "2025-09-22T17:38:56.955604Z",
     "start_time": "2025-09-22T17:38:56.949945Z"
    }
   },
   "source": [
    "#calculating focal loss\n",
    "\n",
    "\n",
    "import torch\n",
    "import torch.nn.functional as F\n",
    "import numpy as np\n",
    "\n",
    "from losses.focal_loss import FocalLoss, reweight\n",
    "\n",
    "def logit(p: torch.Tensor) -> torch.Tensor:\n",
    "    return torch.log(p / (1 - p))\n"
   ],
   "outputs": [],
   "execution_count": 18
  },
  {
   "metadata": {
    "ExecuteTime": {
     "end_time": "2025-09-22T01:25:15.016850Z",
     "start_time": "2025-09-22T01:25:15.012479Z"
    }
   },
   "cell_type": "code",
   "source": [
    "print('inputs shape', inputs.shape)\n",
    "inputs = logit(\n",
    "    torch.tensor(\n",
    "        [\n",
    "            [\n",
    "                [0.95, 0.55, 0.12, 0.05],\n",
    "                [0.09, 0.95, 0.36, 0.11],\n",
    "                [0.06, 0.12, 0.56, 0.07],\n",
    "                [0.09, 0.15, 0.25, 0.45],\n",
    "            ]\n",
    "        ],\n",
    "        dtype=torch.float32,\n",
    "    ).squeeze(0)\n",
    ")\n",
    "print('target shape', targets.shape)\n",
    "targets = torch.tensor([1, 3, 0, 2], dtype=torch.long).squeeze(0)\n",
    "\n",
    "#\n",
    "print('inputs shape', inputs.shape)\n",
    "print('target shape', targets.shape)"
   ],
   "id": "4545d8f196a6e68a",
   "outputs": [
    {
     "name": "stdout",
     "output_type": "stream",
     "text": [
      "inputs shape torch.Size([4, 4])\n",
      "target shape torch.Size([4])\n"
     ]
    }
   ],
   "execution_count": 5
  },
  {
   "metadata": {
    "ExecuteTime": {
     "end_time": "2025-09-22T15:09:14.231570Z",
     "start_time": "2025-09-22T15:09:14.226569Z"
    }
   },
   "cell_type": "code",
   "source": [
    "print(inputs)\n",
    "print(targets)\n",
    "print(targets.ndim)"
   ],
   "id": "1c06661de9735ed0",
   "outputs": [
    {
     "name": "stdout",
     "output_type": "stream",
     "text": [
      "tensor([[ 2.9444,  0.2007, -1.9924, -2.9444],\n",
      "        [-2.3136,  2.9444, -0.5754, -2.0907],\n",
      "        [-2.7515, -1.9924,  0.2412, -2.5867],\n",
      "        [-2.3136, -1.7346, -1.0986, -0.2007]])\n",
      "tensor([1, 3, 0, 2])\n",
      "1\n"
     ]
    }
   ],
   "execution_count": 11
  },
  {
   "metadata": {
    "ExecuteTime": {
     "end_time": "2025-09-22T16:16:06.150851Z",
     "start_time": "2025-09-22T16:16:06.137200Z"
    }
   },
   "cell_type": "code",
   "source": [
    "#print shape before squeeze\n",
    "print(logit(\n",
    "    torch.tensor(\n",
    "        [\n",
    "            [\n",
    "                [0.95, 0.55, 0.12, 0.05],\n",
    "                [0.09, 0.95, 0.36, 0.11],\n",
    "                [0.06, 0.12, 0.56, 0.07],\n",
    "                [0.09, 0.15, 0.25, 0.45],\n",
    "            ]\n",
    "        ],\n",
    "        dtype=torch.float32,\n",
    "    )).shape)\n",
    "print(torch.tensor([1, 3, 0, 2]).shape)\n",
    "print(inputs.shape[0])"
   ],
   "id": "754f5cbefa7ee7f3",
   "outputs": [
    {
     "name": "stdout",
     "output_type": "stream",
     "text": [
      "torch.Size([1, 4, 4])\n",
      "torch.Size([4])\n",
      "4\n"
     ]
    }
   ],
   "execution_count": 13
  },
  {
   "metadata": {
    "ExecuteTime": {
     "end_time": "2025-09-22T15:12:55.532099Z",
     "start_time": "2025-09-22T15:12:55.509246Z"
    }
   },
   "cell_type": "code",
   "source": [
    "# get unique elements and their counts in a tensor\n",
    "x = torch.tensor([1, 1, 2, 2, 3, 1, 1, 2])\n",
    "unique_elements, counts = torch.unique(x, return_counts=True)\n",
    "\n",
    "print(\"Unique elements:\", unique_elements)\n",
    "print(\"Counts:\", counts)\n"
   ],
   "id": "24bc50dbe9fe9cec",
   "outputs": [
    {
     "name": "stdout",
     "output_type": "stream",
     "text": [
      "Unique elements: tensor([1, 2, 3])\n",
      "Counts: tensor([4, 3, 1])\n"
     ]
    }
   ],
   "execution_count": 12
  },
  {
   "metadata": {
    "ExecuteTime": {
     "end_time": "2025-09-22T17:46:31.220689Z",
     "start_time": "2025-09-22T17:46:31.214801Z"
    }
   },
   "cell_type": "code",
   "source": [
    "#learn F.logSoftmax\n",
    "N = targets.shape[0]\n",
    "log_p = F.log_softmax(inputs, dim=1)        #output is [4,4]\n",
    "N = targets.shape[0]      #batch size\n",
    "log_pt = log_p[torch.arange(N), targets]    #torch.Size([4])\n",
    "print(\"log_p: \", log_p.shape)\n",
    "print(\"log_pt: \", log_pt.shape)\n"
   ],
   "id": "b4c6653f1eaf19a",
   "outputs": [
    {
     "name": "stdout",
     "output_type": "stream",
     "text": [
      "log_p:  torch.Size([4, 4])\n",
      "log_pt:  torch.Size([4])\n",
      "tensor([0.0599, 0.0062, 0.0412, 0.2336])\n"
     ]
    }
   ],
   "execution_count": 33
  },
  {
   "metadata": {
    "ExecuteTime": {
     "end_time": "2025-09-22T17:47:31.487779Z",
     "start_time": "2025-09-22T17:47:31.482749Z"
    }
   },
   "cell_type": "code",
   "source": [
    "pt = log_pt.exp()\n",
    "print(pt)\n",
    "\n",
    "sample_weights = pt"
   ],
   "id": "954041f0634a7171",
   "outputs": [
    {
     "name": "stdout",
     "output_type": "stream",
     "text": [
      "tensor([0.0599, 0.0062, 0.0412, 0.2336])\n"
     ]
    }
   ],
   "execution_count": 34
  },
  {
   "metadata": {},
   "cell_type": "code",
   "outputs": [],
   "execution_count": null,
   "source": "\n",
   "id": "45531e98fc1961e8"
  }
 ],
 "metadata": {
  "kernelspec": {
   "display_name": "Python 3",
   "language": "python",
   "name": "python3"
  },
  "language_info": {
   "codemirror_mode": {
    "name": "ipython",
    "version": 2
   },
   "file_extension": ".py",
   "mimetype": "text/x-python",
   "name": "python",
   "nbconvert_exporter": "python",
   "pygments_lexer": "ipython2",
   "version": "2.7.6"
  }
 },
 "nbformat": 4,
 "nbformat_minor": 5
}
